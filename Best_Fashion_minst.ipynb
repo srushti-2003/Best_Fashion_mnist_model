{
  "cells": [
    {
      "cell_type": "code",
      "execution_count": null,
      "metadata": {
        "id": "5JtDINhqI32i"
      },
      "outputs": [],
      "source": [
        "import tensorflow as tf\n",
        "from tensorflow import keras\n",
        "import numpy as np"
      ]
    },
    {
      "cell_type": "code",
      "execution_count": null,
      "metadata": {
        "colab": {
          "base_uri": "https://localhost:8080/"
        },
        "id": "AQweySTGI5g9",
        "outputId": "1ca770e4-6d16-4989-e897-2f53c8e25fbd"
      },
      "outputs": [
        {
          "name": "stdout",
          "output_type": "stream",
          "text": [
            "Downloading data from https://storage.googleapis.com/tensorflow/tf-keras-datasets/mnist.npz\n",
            "11490434/11490434 [==============================] - 0s 0us/step\n"
          ]
        }
      ],
      "source": [
        "(train_x, train_y), (test_x, test_y) = keras.datasets.mnist.load_data()\n",
        "train_x = train_x / 255.0\n",
        "test_x = test_x / 255.0\n",
        "train_x = tf.expand_dims(train_x, 3)\n",
        "test_x = tf.expand_dims(test_x, 3)\n",
        "val_x = train_x[:5000]\n",
        "val_y = train_y[:5000]"
      ]
    },
    {
      "cell_type": "code",
      "execution_count": null,
      "metadata": {
        "id": "_0r2kfD7JJfX"
      },
      "outputs": [],
      "source": [
        "lenet_5_model = keras.models.Sequential([\n",
        "    keras.layers.Conv2D(6, kernel_size=5, strides=1,  activation='tanh', input_shape=train_x[0].shape, padding='same'), #C1\n",
        "    keras.layers.AveragePooling2D(), #S2\n",
        "    keras.layers.Conv2D(16, kernel_size=5, strides=1, activation='tanh', padding='valid'), #C3\n",
        "    keras.layers.AveragePooling2D(), #S4\n",
        "    keras.layers.Conv2D(120, kernel_size=5, strides=1, activation='tanh', padding='valid'), #C5\n",
        "    keras.layers.Flatten(), #Flatten    \n",
        "    keras.layers.Dense(84, activation='tanh'), #F6\n",
        "    keras.layers.Dense(10, activation='softmax') #Output layer\n",
        "])"
      ]
    },
    {
      "cell_type": "code",
      "execution_count": null,
      "metadata": {
        "id": "MdqUJeUOJMyN"
      },
      "outputs": [],
      "source": [
        "lenet_5_model.compile(optimizer='adam', loss=keras.losses.sparse_categorical_crossentropy, metrics=['accuracy'])"
      ]
    },
    {
      "cell_type": "code",
      "execution_count": null,
      "metadata": {
        "colab": {
          "base_uri": "https://localhost:8080/"
        },
        "id": "zPy2At-HJRFV",
        "outputId": "a6c1fbe5-ca6a-48c0-cc31-a21fca7ff7b2"
      },
      "outputs": [
        {
          "name": "stdout",
          "output_type": "stream",
          "text": [
            "Epoch 1/5\n",
            "1875/1875 [==============================] - 42s 22ms/step - loss: 0.2247 - accuracy: 0.9333 - val_loss: 0.0858 - val_accuracy: 0.9754\n",
            "Epoch 2/5\n",
            "1875/1875 [==============================] - 43s 23ms/step - loss: 0.0882 - accuracy: 0.9726 - val_loss: 0.0526 - val_accuracy: 0.9852\n",
            "Epoch 3/5\n",
            "1875/1875 [==============================] - 40s 21ms/step - loss: 0.0611 - accuracy: 0.9808 - val_loss: 0.0486 - val_accuracy: 0.9870\n",
            "Epoch 4/5\n",
            "1875/1875 [==============================] - 40s 21ms/step - loss: 0.0453 - accuracy: 0.9860 - val_loss: 0.0355 - val_accuracy: 0.9896\n",
            "Epoch 5/5\n",
            "1875/1875 [==============================] - 41s 22ms/step - loss: 0.0366 - accuracy: 0.9881 - val_loss: 0.0290 - val_accuracy: 0.9916\n"
          ]
        },
        {
          "data": {
            "text/plain": [
              "<keras.callbacks.History at 0x7f8c9b5f8310>"
            ]
          },
          "execution_count": 7,
          "metadata": {},
          "output_type": "execute_result"
        }
      ],
      "source": [
        "lenet_5_model.fit(train_x, train_y, epochs=5, validation_data=(val_x, val_y))"
      ]
    },
    {
      "cell_type": "code",
      "execution_count": null,
      "metadata": {
        "colab": {
          "base_uri": "https://localhost:8080/"
        },
        "id": "m-Mp2bR5JbeZ",
        "outputId": "dddc5286-4cb9-486a-bf5a-8e891627cb7e"
      },
      "outputs": [
        {
          "name": "stdout",
          "output_type": "stream",
          "text": [
            "313/313 [==============================] - 3s 10ms/step - loss: 0.0510 - accuracy: 0.9835\n"
          ]
        },
        {
          "data": {
            "text/plain": [
              "[0.05097557231783867, 0.9835000038146973]"
            ]
          },
          "execution_count": 8,
          "metadata": {},
          "output_type": "execute_result"
        }
      ],
      "source": [
        "lenet_5_model.evaluate(test_x, test_y)\n",
        "# made by jay sanghavi"
      ]
    },
    {
      "cell_type": "code",
      "execution_count": null,
      "metadata": {
        "colab": {
          "base_uri": "https://localhost:8080/"
        },
        "id": "ySNv5fpqLEuA",
        "outputId": "4eb5a2ce-d360-4c2c-9bd7-0771072ba4fa"
      },
      "outputs": [
        {
          "name": "stdout",
          "output_type": "stream",
          "text": [
            "Epoch 1/15\n",
            "1875/1875 [==============================] - 40s 21ms/step - loss: 0.0294 - accuracy: 0.9904 - val_loss: 0.0275 - val_accuracy: 0.9912\n",
            "Epoch 2/15\n",
            "1875/1875 [==============================] - 41s 22ms/step - loss: 0.0252 - accuracy: 0.9921 - val_loss: 0.0190 - val_accuracy: 0.9944\n",
            "Epoch 3/15\n",
            "1875/1875 [==============================] - 40s 21ms/step - loss: 0.0203 - accuracy: 0.9934 - val_loss: 0.0182 - val_accuracy: 0.9934\n",
            "Epoch 4/15\n",
            "1875/1875 [==============================] - 40s 21ms/step - loss: 0.0192 - accuracy: 0.9940 - val_loss: 0.0126 - val_accuracy: 0.9964\n",
            "Epoch 5/15\n",
            "1875/1875 [==============================] - 40s 21ms/step - loss: 0.0153 - accuracy: 0.9947 - val_loss: 0.0172 - val_accuracy: 0.9936\n",
            "Epoch 6/15\n",
            "1875/1875 [==============================] - 40s 21ms/step - loss: 0.0158 - accuracy: 0.9948 - val_loss: 0.0101 - val_accuracy: 0.9968\n",
            "Epoch 7/15\n",
            "1875/1875 [==============================] - 42s 22ms/step - loss: 0.0126 - accuracy: 0.9958 - val_loss: 0.0096 - val_accuracy: 0.9974\n",
            "Epoch 8/15\n",
            "1875/1875 [==============================] - 40s 21ms/step - loss: 0.0118 - accuracy: 0.9962 - val_loss: 0.0088 - val_accuracy: 0.9960\n",
            "Epoch 9/15\n",
            "1875/1875 [==============================] - 40s 21ms/step - loss: 0.0106 - accuracy: 0.9966 - val_loss: 0.0066 - val_accuracy: 0.9972\n",
            "Epoch 10/15\n",
            "1875/1875 [==============================] - 40s 21ms/step - loss: 0.0107 - accuracy: 0.9964 - val_loss: 0.0088 - val_accuracy: 0.9972\n",
            "Epoch 11/15\n",
            "1875/1875 [==============================] - 40s 21ms/step - loss: 0.0093 - accuracy: 0.9967 - val_loss: 0.0089 - val_accuracy: 0.9966\n",
            "Epoch 12/15\n",
            "1875/1875 [==============================] - 41s 22ms/step - loss: 0.0104 - accuracy: 0.9966 - val_loss: 0.0059 - val_accuracy: 0.9980\n",
            "Epoch 13/15\n",
            "1875/1875 [==============================] - 40s 21ms/step - loss: 0.0077 - accuracy: 0.9975 - val_loss: 0.0079 - val_accuracy: 0.9984\n",
            "Epoch 14/15\n",
            "1875/1875 [==============================] - 40s 21ms/step - loss: 0.0095 - accuracy: 0.9967 - val_loss: 0.0080 - val_accuracy: 0.9972\n",
            "Epoch 15/15\n",
            "1875/1875 [==============================] - 40s 21ms/step - loss: 0.0063 - accuracy: 0.9980 - val_loss: 0.0067 - val_accuracy: 0.9976\n"
          ]
        },
        {
          "data": {
            "text/plain": [
              "<keras.callbacks.History at 0x7f8c96d8ff10>"
            ]
          },
          "execution_count": 9,
          "metadata": {},
          "output_type": "execute_result"
        }
      ],
      "source": [
        "lenet_5_model.fit(train_x, train_y, epochs=15, validation_data=(val_x, val_y))"
      ]
    },
    {
      "cell_type": "code",
      "execution_count": null,
      "metadata": {
        "colab": {
          "base_uri": "https://localhost:8080/"
        },
        "id": "tbBfXVi_Qa3a",
        "outputId": "86c70498-f7aa-453f-8bfa-14d60ed3fb99"
      },
      "outputs": [
        {
          "name": "stdout",
          "output_type": "stream",
          "text": [
            "313/313 [==============================] - 3s 9ms/step - loss: 0.0561 - accuracy: 0.9857\n"
          ]
        },
        {
          "data": {
            "text/plain": [
              "[0.05610252544283867, 0.9857000112533569]"
            ]
          },
          "execution_count": 10,
          "metadata": {},
          "output_type": "execute_result"
        }
      ],
      "source": [
        "lenet_5_model.evaluate(test_x, test_y)"
      ]
    },
    {
      "cell_type": "code",
      "execution_count": null,
      "metadata": {
        "id": "LQUE_v19QdnJ"
      },
      "outputs": [],
      "source": []
    },
    {
      "cell_type": "markdown",
      "metadata": {
        "id": "qCb8qon09FKD"
      },
      "source": [
        "#Model train 2"
      ]
    },
    {
      "cell_type": "code",
      "execution_count": null,
      "metadata": {
        "colab": {
          "background_save": true,
          "base_uri": "https://localhost:8080/"
        },
        "id": "nKjW8Zgo9EEh",
        "outputId": "85353f3e-a5b3-4ac2-ee63-1f9c2ac7028f"
      },
      "outputs": [
        {
          "name": "stdout",
          "output_type": "stream",
          "text": [
            "Epoch 1/5\n",
            "1875/1875 [==============================] - 43s 23ms/step - loss: 0.2267 - accuracy: 0.9313 - val_loss: 0.0887 - val_accuracy: 0.9770\n",
            "Epoch 2/5\n",
            " 237/1875 [==>...........................] - ETA: 36s - loss: 0.0951 - accuracy: 0.9711"
          ]
        }
      ],
      "source": [
        "lenet_5_model.fit(train_x, train_y, epochs=5, validation_data=(val_x, val_y))"
      ]
    },
    {
      "cell_type": "code",
      "execution_count": null,
      "metadata": {
        "id": "pm7bJQP89EHW"
      },
      "outputs": [],
      "source": [
        "lenet_5_model.evaluate(test_x, test_y)\n",
        "# made by jay sanghavi"
      ]
    },
    {
      "cell_type": "code",
      "execution_count": null,
      "metadata": {
        "id": "CG8Wu4nT9EJ-"
      },
      "outputs": [],
      "source": [
        "lenet_5_model.fit(train_x, train_y, epochs=15, validation_data=(val_x, val_y))"
      ]
    },
    {
      "cell_type": "code",
      "execution_count": null,
      "metadata": {
        "id": "qDBcdzA59EMk"
      },
      "outputs": [],
      "source": [
        "lenet_5_model.evaluate(test_x, test_y)"
      ]
    },
    {
      "cell_type": "code",
      "execution_count": null,
      "metadata": {
        "id": "mMwyA8B69EPb"
      },
      "outputs": [],
      "source": []
    },
    {
      "cell_type": "code",
      "execution_count": null,
      "metadata": {
        "id": "dTuFWqZp9ESz"
      },
      "outputs": [],
      "source": []
    },
    {
      "cell_type": "code",
      "execution_count": null,
      "metadata": {
        "id": "YiofLIWF9EVJ"
      },
      "outputs": [],
      "source": []
    }
  ],
  "metadata": {
    "colab": {
      "provenance": []
    },
    "kernelspec": {
      "display_name": "Python 3",
      "name": "python3"
    },
    "language_info": {
      "name": "python"
    }
  },
  "nbformat": 4,
  "nbformat_minor": 0
}